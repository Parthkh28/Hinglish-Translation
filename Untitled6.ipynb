{
  "nbformat": 4,
  "nbformat_minor": 0,
  "metadata": {
    "colab": {
      "provenance": []
    },
    "kernelspec": {
      "name": "python3",
      "display_name": "Python 3"
    },
    "language_info": {
      "name": "python"
    }
  },
  "cells": [
    {
      "cell_type": "markdown",
      "source": [
        "# Installation of Required Libraries"
      ],
      "metadata": {
        "id": "YGa82UhX2hXj"
      }
    },
    {
      "cell_type": "code",
      "source": [
        "# Install the necessary libraries (run this only if the packages are not already installed)\n",
        "!pip install nltk\n",
        "!pip install googletrans==4.0.0-rc1\n"
      ],
      "metadata": {
        "id": "vGlsgv3T2gfg",
        "colab": {
          "base_uri": "https://localhost:8080/"
        },
        "outputId": "b18c1c44-6310-462f-f440-e5bbde52894a"
      },
      "execution_count": 5,
      "outputs": [
        {
          "output_type": "stream",
          "name": "stdout",
          "text": [
            "Requirement already satisfied: nltk in /usr/local/lib/python3.10/dist-packages (3.8.1)\n",
            "Requirement already satisfied: click in /usr/local/lib/python3.10/dist-packages (from nltk) (8.1.7)\n",
            "Requirement already satisfied: joblib in /usr/local/lib/python3.10/dist-packages (from nltk) (1.3.2)\n",
            "Requirement already satisfied: regex>=2021.8.3 in /usr/local/lib/python3.10/dist-packages (from nltk) (2023.6.3)\n",
            "Requirement already satisfied: tqdm in /usr/local/lib/python3.10/dist-packages (from nltk) (4.66.1)\n",
            "Requirement already satisfied: googletrans==4.0.0-rc1 in /usr/local/lib/python3.10/dist-packages (4.0.0rc1)\n",
            "Requirement already satisfied: httpx==0.13.3 in /usr/local/lib/python3.10/dist-packages (from googletrans==4.0.0-rc1) (0.13.3)\n",
            "Requirement already satisfied: certifi in /usr/local/lib/python3.10/dist-packages (from httpx==0.13.3->googletrans==4.0.0-rc1) (2023.7.22)\n",
            "Requirement already satisfied: hstspreload in /usr/local/lib/python3.10/dist-packages (from httpx==0.13.3->googletrans==4.0.0-rc1) (2023.1.1)\n",
            "Requirement already satisfied: sniffio in /usr/local/lib/python3.10/dist-packages (from httpx==0.13.3->googletrans==4.0.0-rc1) (1.3.0)\n",
            "Requirement already satisfied: chardet==3.* in /usr/local/lib/python3.10/dist-packages (from httpx==0.13.3->googletrans==4.0.0-rc1) (3.0.4)\n",
            "Requirement already satisfied: idna==2.* in /usr/local/lib/python3.10/dist-packages (from httpx==0.13.3->googletrans==4.0.0-rc1) (2.10)\n",
            "Requirement already satisfied: rfc3986<2,>=1.3 in /usr/local/lib/python3.10/dist-packages (from httpx==0.13.3->googletrans==4.0.0-rc1) (1.5.0)\n",
            "Requirement already satisfied: httpcore==0.9.* in /usr/local/lib/python3.10/dist-packages (from httpx==0.13.3->googletrans==4.0.0-rc1) (0.9.1)\n",
            "Requirement already satisfied: h11<0.10,>=0.8 in /usr/local/lib/python3.10/dist-packages (from httpcore==0.9.*->httpx==0.13.3->googletrans==4.0.0-rc1) (0.9.0)\n",
            "Requirement already satisfied: h2==3.* in /usr/local/lib/python3.10/dist-packages (from httpcore==0.9.*->httpx==0.13.3->googletrans==4.0.0-rc1) (3.2.0)\n",
            "Requirement already satisfied: hyperframe<6,>=5.2.0 in /usr/local/lib/python3.10/dist-packages (from h2==3.*->httpcore==0.9.*->httpx==0.13.3->googletrans==4.0.0-rc1) (5.2.0)\n",
            "Requirement already satisfied: hpack<4,>=3.0 in /usr/local/lib/python3.10/dist-packages (from h2==3.*->httpcore==0.9.*->httpx==0.13.3->googletrans==4.0.0-rc1) (3.0.0)\n"
          ]
        }
      ]
    },
    {
      "cell_type": "markdown",
      "source": [
        "# Importing Libraries and Downloading NLTK Resources"
      ],
      "metadata": {
        "id": "s9f5EyXS2quL"
      }
    },
    {
      "cell_type": "code",
      "source": [
        "import nltk\n",
        "from googletrans import Translator\n",
        "import re\n",
        "\n",
        "# Download necessary NLTK resources\n",
        "nltk.download('punkt')\n",
        "nltk.download('averaged_perceptron_tagger')"
      ],
      "metadata": {
        "id": "5tA-jC1BKRM8",
        "colab": {
          "base_uri": "https://localhost:8080/"
        },
        "outputId": "e17aca17-4700-460c-d4d2-3e1ca67c56af"
      },
      "execution_count": 6,
      "outputs": [
        {
          "output_type": "stream",
          "name": "stderr",
          "text": [
            "[nltk_data] Downloading package punkt to /root/nltk_data...\n",
            "[nltk_data]   Package punkt is already up-to-date!\n",
            "[nltk_data] Downloading package averaged_perceptron_tagger to\n",
            "[nltk_data]     /root/nltk_data...\n",
            "[nltk_data]   Package averaged_perceptron_tagger is already up-to-\n",
            "[nltk_data]       date!\n"
          ]
        },
        {
          "output_type": "execute_result",
          "data": {
            "text/plain": [
              "True"
            ]
          },
          "metadata": {},
          "execution_count": 6
        }
      ]
    },
    {
      "cell_type": "markdown",
      "source": [
        "# Function to Identify Nouns in English"
      ],
      "metadata": {
        "id": "MtQPHd_E2xZO"
      }
    },
    {
      "cell_type": "code",
      "source": [
        "def find_nouns(sentence):\n",
        "    \"\"\"\n",
        "    Identifies and returns a list of nouns in the given English sentence.\n",
        "    \"\"\"\n",
        "    words = nltk.word_tokenize(sentence)\n",
        "    words_with_pos = nltk.pos_tag(words)\n",
        "    nouns = [word for word, pos in words_with_pos if pos.startswith('NN')]\n",
        "    return nouns"
      ],
      "metadata": {
        "id": "tithex0S2w_-"
      },
      "execution_count": 7,
      "outputs": []
    },
    {
      "cell_type": "markdown",
      "source": [
        "Function to Translate English to Hindi"
      ],
      "metadata": {
        "id": "8MvWrCZqKBRk"
      }
    },
    {
      "cell_type": "code",
      "source": [
        "def translate_to_hindi(sentence):\n",
        "    \"\"\"\n",
        "    Translates an English sentence to Hindi.\n",
        "    \"\"\"\n",
        "    translator = Translator()\n",
        "    translated = translator.translate(sentence, src='en', dest='hi')\n",
        "    return translated.text"
      ],
      "metadata": {
        "id": "vGZAdrKV2_9g"
      },
      "execution_count": 8,
      "outputs": []
    },
    {
      "cell_type": "markdown",
      "source": [
        "# Function to Replace Hindi Nouns with English"
      ],
      "metadata": {
        "id": "Te8IiTlg3GI8"
      }
    },
    {
      "cell_type": "code",
      "source": [
        "def replace_nouns_with_english(hindi_sentence, english_sentence):\n",
        "    \"\"\"\n",
        "    Replaces nouns in a Hindi sentence with their English counterparts.\n",
        "    \"\"\"\n",
        "    english_nouns = find_nouns(english_sentence)\n",
        "    translated_nouns = [translate_to_hindi(noun) for noun in english_nouns]\n",
        "\n",
        "    for hindi_noun, english_noun in zip(translated_nouns, english_nouns):\n",
        "        hindi_sentence = re.sub(rf'\\b{hindi_noun}\\b', english_noun, hindi_sentence)\n",
        "\n",
        "    return hindi_sentence\n"
      ],
      "metadata": {
        "id": "mfVizQrG3DZs"
      },
      "execution_count": 9,
      "outputs": []
    },
    {
      "cell_type": "markdown",
      "source": [
        "# Testing Hinglish Translation"
      ],
      "metadata": {
        "id": "sOBpQ0Mb3TBc"
      }
    },
    {
      "cell_type": "code",
      "source": [
        "def test_translation():\n",
        "    \"\"\"\n",
        "    Asks the user to input an English sentence and prints out the Hinglish sentence.\n",
        "    \"\"\"\n",
        "    sentence = input(\"Enter an English sentence: \")\n",
        "    hindi_translation = translate_to_hindi(sentence)\n",
        "    result_sentence = replace_nouns_with_english(hindi_translation, sentence)\n",
        "    print(\"Hinglish Sentence:\", result_sentence)\n",
        "\n",
        "# Run the test translation function\n",
        "test_translation()\n"
      ],
      "metadata": {
        "id": "UzOxVEKI3SPM",
        "colab": {
          "base_uri": "https://localhost:8080/"
        },
        "outputId": "7d154756-589b-44fb-b5ef-3474d2d861f8"
      },
      "execution_count": 10,
      "outputs": [
        {
          "output_type": "stream",
          "name": "stdout",
          "text": [
            "Enter an English sentence: I had about a 30 minute demo just using this new headset\n",
            "Hinglish Sentence: मेरे पास इस नए headset का उपयोग करके लगभग 30 minute का डेमो था\n"
          ]
        }
      ]
    }
  ]
}